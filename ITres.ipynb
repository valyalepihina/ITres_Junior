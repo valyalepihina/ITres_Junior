{
  "cells": [
    {
      "cell_type": "markdown",
      "metadata": {
        "id": "view-in-github",
        "colab_type": "text"
      },
      "source": [
        "<a href=\"https://colab.research.google.com/github/valyalepihina/ITres_Junior/blob/main/ITres.ipynb\" target=\"_parent\"><img src=\"https://colab.research.google.com/assets/colab-badge.svg\" alt=\"Open In Colab\"/></a>"
      ]
    },
    {
      "cell_type": "code",
      "execution_count": null,
      "metadata": {
        "colab": {
          "base_uri": "https://localhost:8080/"
        },
        "id": "4eWmQnio0jG1",
        "outputId": "bcbc75dc-8981-4121-e90b-ca3103158e4c"
      },
      "outputs": [
        {
          "output_type": "stream",
          "name": "stdout",
          "text": [
            "Requirement already satisfied: vosk in /usr/local/lib/python3.10/dist-packages (0.3.45)\n",
            "Requirement already satisfied: cffi>=1.0 in /usr/local/lib/python3.10/dist-packages (from vosk) (1.16.0)\n",
            "Requirement already satisfied: requests in /usr/local/lib/python3.10/dist-packages (from vosk) (2.31.0)\n",
            "Requirement already satisfied: tqdm in /usr/local/lib/python3.10/dist-packages (from vosk) (4.66.4)\n",
            "Requirement already satisfied: srt in /usr/local/lib/python3.10/dist-packages (from vosk) (3.5.3)\n",
            "Requirement already satisfied: websockets in /usr/local/lib/python3.10/dist-packages (from vosk) (12.0)\n",
            "Requirement already satisfied: pycparser in /usr/local/lib/python3.10/dist-packages (from cffi>=1.0->vosk) (2.22)\n",
            "Requirement already satisfied: charset-normalizer<4,>=2 in /usr/local/lib/python3.10/dist-packages (from requests->vosk) (3.3.2)\n",
            "Requirement already satisfied: idna<4,>=2.5 in /usr/local/lib/python3.10/dist-packages (from requests->vosk) (3.7)\n",
            "Requirement already satisfied: urllib3<3,>=1.21.1 in /usr/local/lib/python3.10/dist-packages (from requests->vosk) (2.0.7)\n",
            "Requirement already satisfied: certifi>=2017.4.17 in /usr/local/lib/python3.10/dist-packages (from requests->vosk) (2024.2.2)\n",
            "fatal: destination path 'vosk-api' already exists and is not an empty directory.\n"
          ]
        }
      ],
      "source": [
        "!pip install vosk\n",
        "!git clone https://github.com/alphacep/vosk-api"
      ]
    },
    {
      "cell_type": "code",
      "execution_count": null,
      "metadata": {
        "colab": {
          "base_uri": "https://localhost:8080/"
        },
        "id": "sCS3oiGB0ngK",
        "outputId": "d8186cd3-16b7-4479-ebbb-20aef25c0fe8"
      },
      "outputs": [
        {
          "output_type": "stream",
          "name": "stdout",
          "text": [
            "/content/vosk-api/python/example/vosk-api/python/example/vosk-api/python/example/vosk-api/python/example\n",
            "--2024-05-19 05:03:53--  https://alphacephei.com/vosk/models/vosk-model-small-ru-0.22.zip\n",
            "Resolving alphacephei.com (alphacephei.com)... 188.40.21.16, 2a01:4f8:13a:279f::2\n",
            "Connecting to alphacephei.com (alphacephei.com)|188.40.21.16|:443... connected.\n",
            "HTTP request sent, awaiting response... 200 OK\n",
            "Length: 46236750 (44M) [application/zip]\n",
            "Saving to: ‘vosk-model-small-ru-0.22.zip’\n",
            "\n",
            "vosk-model-small-ru 100%[===================>]  44.09M  15.3MB/s    in 2.9s    \n",
            "\n",
            "2024-05-19 05:03:57 (15.3 MB/s) - ‘vosk-model-small-ru-0.22.zip’ saved [46236750/46236750]\n",
            "\n",
            "Archive:  vosk-model-small-ru-0.22.zip\n",
            "   creating: vosk-model-small-ru-0.22/\n",
            "   creating: vosk-model-small-ru-0.22/graph/\n",
            "   creating: vosk-model-small-ru-0.22/graph/phones/\n",
            "  inflating: vosk-model-small-ru-0.22/graph/phones/word_boundary.int  \n",
            "  inflating: vosk-model-small-ru-0.22/graph/Gr.fst  \n",
            "  inflating: vosk-model-small-ru-0.22/graph/HCLr.fst  \n",
            "  inflating: vosk-model-small-ru-0.22/graph/disambig_tid.int  \n",
            "   creating: vosk-model-small-ru-0.22/am/\n",
            "  inflating: vosk-model-small-ru-0.22/am/final.mdl  \n",
            "  inflating: vosk-model-small-ru-0.22/README  \n",
            "   creating: vosk-model-small-ru-0.22/conf/\n",
            "  inflating: vosk-model-small-ru-0.22/conf/model.conf  \n",
            "  inflating: vosk-model-small-ru-0.22/conf/mfcc.conf  \n",
            "   creating: vosk-model-small-ru-0.22/ivector/\n",
            "  inflating: vosk-model-small-ru-0.22/ivector/final.dubm  \n",
            "  inflating: vosk-model-small-ru-0.22/ivector/global_cmvn.stats  \n",
            "  inflating: vosk-model-small-ru-0.22/ivector/final.ie  \n",
            "  inflating: vosk-model-small-ru-0.22/ivector/final.mat  \n",
            "  inflating: vosk-model-small-ru-0.22/ivector/splice.conf  \n",
            "  inflating: vosk-model-small-ru-0.22/ivector/online_cmvn.conf  \n"
          ]
        }
      ],
      "source": [
        "%cd vosk-api/python/example\n",
        "#Russian lang model\n",
        "!wget https://alphacephei.com/vosk/models/vosk-model-small-ru-0.22.zip\n",
        "!unzip vosk-model-small-ru-0.22.zip\n",
        "%mv vosk-model-small-ru-0.22 model\n",
        "!rm -rf vosk-model-small-ru-0.22.zip"
      ]
    },
    {
      "cell_type": "code",
      "execution_count": null,
      "metadata": {
        "colab": {
          "base_uri": "https://localhost:8080/"
        },
        "id": "A7wJJ08I0xe1",
        "outputId": "3d09376c-47c1-4f91-c5c2-8bf95a6da3bf"
      },
      "outputs": [
        {
          "output_type": "stream",
          "name": "stdout",
          "text": [
            "/content/vosk-api/python/example/vosk-api/python/example/vosk-api/python/example/vosk-api/python/example\n"
          ]
        }
      ],
      "source": [
        "!pwd"
      ]
    },
    {
      "cell_type": "code",
      "execution_count": null,
      "metadata": {
        "id": "upMZfNJc1Am_",
        "colab": {
          "base_uri": "https://localhost:8080/"
        },
        "outputId": "3b16316b-084c-4b4b-c2c6-704b4f320a66"
      },
      "outputs": [
        {
          "output_type": "stream",
          "name": "stdout",
          "text": [
            "ffmpeg version 4.4.2-0ubuntu0.22.04.1 Copyright (c) 2000-2021 the FFmpeg developers\n",
            "  built with gcc 11 (Ubuntu 11.2.0-19ubuntu1)\n",
            "  configuration: --prefix=/usr --extra-version=0ubuntu0.22.04.1 --toolchain=hardened --libdir=/usr/lib/x86_64-linux-gnu --incdir=/usr/include/x86_64-linux-gnu --arch=amd64 --enable-gpl --disable-stripping --enable-gnutls --enable-ladspa --enable-libaom --enable-libass --enable-libbluray --enable-libbs2b --enable-libcaca --enable-libcdio --enable-libcodec2 --enable-libdav1d --enable-libflite --enable-libfontconfig --enable-libfreetype --enable-libfribidi --enable-libgme --enable-libgsm --enable-libjack --enable-libmp3lame --enable-libmysofa --enable-libopenjpeg --enable-libopenmpt --enable-libopus --enable-libpulse --enable-librabbitmq --enable-librubberband --enable-libshine --enable-libsnappy --enable-libsoxr --enable-libspeex --enable-libsrt --enable-libssh --enable-libtheora --enable-libtwolame --enable-libvidstab --enable-libvorbis --enable-libvpx --enable-libwebp --enable-libx265 --enable-libxml2 --enable-libxvid --enable-libzimg --enable-libzmq --enable-libzvbi --enable-lv2 --enable-omx --enable-openal --enable-opencl --enable-opengl --enable-sdl2 --enable-pocketsphinx --enable-librsvg --enable-libmfx --enable-libdc1394 --enable-libdrm --enable-libiec61883 --enable-chromaprint --enable-frei0r --enable-libx264 --enable-shared\n",
            "  libavutil      56. 70.100 / 56. 70.100\n",
            "  libavcodec     58.134.100 / 58.134.100\n",
            "  libavformat    58. 76.100 / 58. 76.100\n",
            "  libavdevice    58. 13.100 / 58. 13.100\n",
            "  libavfilter     7.110.100 /  7.110.100\n",
            "  libswscale      5.  9.100 /  5.  9.100\n",
            "  libswresample   3.  9.100 /  3.  9.100\n",
            "  libpostproc    55.  9.100 / 55.  9.100\n",
            "\u001b[0;35m[wav @ 0x5c13ce388080] \u001b[0m\u001b[0;33mEstimating duration from bitrate, this may be inaccurate\n",
            "\u001b[0m\u001b[0;33mGuessed Channel Layout for Input Stream #0.0 : mono\n",
            "\u001b[0mInput #0, wav, from '/content/input.wav':\n",
            "  Metadata:\n",
            "    title           : 66к 832 КВ   02 05 2024 05 57 50\n",
            "    encoder         : Lavf58.76.100\n",
            "    encoded_by      : auphonic.com\n",
            "  Duration: 00:00:47.55, bitrate: 705 kb/s\n",
            "  Stream #0:0: Audio: pcm_s16le ([1][0][0][0] / 0x0001), 44100 Hz, mono, s16, 705 kb/s\n",
            "File 'output.wav' already exists. Overwrite? [y/N] y\n",
            "Stream mapping:\n",
            "  Stream #0:0 -> #0:0 (pcm_s16le (native) -> pcm_s16le (native))\n",
            "Press [q] to stop, [?] for help\n",
            "Output #0, wav, to 'output.wav':\n",
            "  Metadata:\n",
            "    INAM            : 66к 832 КВ   02 05 2024 05 57 50\n",
            "    ITCH            : auphonic.com\n",
            "    ISFT            : Lavf58.76.100\n",
            "  Stream #0:0: Audio: pcm_s16le ([1][0][0][0] / 0x0001), 16000 Hz, mono, s16, 256 kb/s\n",
            "    Metadata:\n",
            "      encoder         : Lavc58.134.100 pcm_s16le\n",
            "\u001b[0;35m[wav @ 0x5c13ce388080] \u001b[0m\u001b[0;33mPacket corrupt (stream = 0, dts = NOPTS)\u001b[0m\u001b[0;33m.\n",
            "\u001b[0m\u001b[0;33m/content/input.wav: corrupt input packet in stream 0\n",
            "\u001b[0msize=    1486kB time=00:00:47.55 bitrate= 256.0kbits/s speed=1.7e+03x    \n",
            "video:0kB audio:1486kB subtitle:0kB other streams:0kB global headers:0kB muxing overhead: 0.009463%\n"
          ]
        }
      ],
      "source": [
        "!rm -rf e*.wav\n",
        "!pip install -q ffmpeg\n",
        "!ffmpeg -i \"/content/input.wav\" -vn -acodec pcm_s16le -ac 1 -ar 16000 -f wav output.wav"
      ]
    },
    {
      "cell_type": "code",
      "execution_count": null,
      "metadata": {
        "colab": {
          "base_uri": "https://localhost:8080/"
        },
        "id": "H7j5fSL51Gox",
        "outputId": "8acfd3aa-4e4d-45e7-e123-938e96f709cd"
      },
      "outputs": [
        {
          "output_type": "stream",
          "name": "stdout",
          "text": [
            "Reading package lists... Done\n",
            "Building dependency tree... Done\n",
            "Reading state information... Done\n",
            "ffmpeg is already the newest version (7:4.4.2-0ubuntu0.22.04.1).\n",
            "0 upgraded, 0 newly installed, 0 to remove and 45 not upgraded.\n",
            "ffmpeg version 4.4.2-0ubuntu0.22.04.1 Copyright (c) 2000-2021 the FFmpeg developers\n",
            "  built with gcc 11 (Ubuntu 11.2.0-19ubuntu1)\n",
            "  configuration: --prefix=/usr --extra-version=0ubuntu0.22.04.1 --toolchain=hardened --libdir=/usr/lib/x86_64-linux-gnu --incdir=/usr/include/x86_64-linux-gnu --arch=amd64 --enable-gpl --disable-stripping --enable-gnutls --enable-ladspa --enable-libaom --enable-libass --enable-libbluray --enable-libbs2b --enable-libcaca --enable-libcdio --enable-libcodec2 --enable-libdav1d --enable-libflite --enable-libfontconfig --enable-libfreetype --enable-libfribidi --enable-libgme --enable-libgsm --enable-libjack --enable-libmp3lame --enable-libmysofa --enable-libopenjpeg --enable-libopenmpt --enable-libopus --enable-libpulse --enable-librabbitmq --enable-librubberband --enable-libshine --enable-libsnappy --enable-libsoxr --enable-libspeex --enable-libsrt --enable-libssh --enable-libtheora --enable-libtwolame --enable-libvidstab --enable-libvorbis --enable-libvpx --enable-libwebp --enable-libx265 --enable-libxml2 --enable-libxvid --enable-libzimg --enable-libzmq --enable-libzvbi --enable-lv2 --enable-omx --enable-openal --enable-opencl --enable-opengl --enable-sdl2 --enable-pocketsphinx --enable-librsvg --enable-libmfx --enable-libdc1394 --enable-libdrm --enable-libiec61883 --enable-chromaprint --enable-frei0r --enable-libx264 --enable-shared\n",
            "  libavutil      56. 70.100 / 56. 70.100\n",
            "  libavcodec     58.134.100 / 58.134.100\n",
            "  libavformat    58. 76.100 / 58. 76.100\n",
            "  libavdevice    58. 13.100 / 58. 13.100\n",
            "  libavfilter     7.110.100 /  7.110.100\n",
            "  libswscale      5.  9.100 /  5.  9.100\n",
            "  libswresample   3.  9.100 /  3.  9.100\n",
            "  libpostproc    55.  9.100 / 55.  9.100\n",
            "\u001b[0;33mGuessed Channel Layout for Input Stream #0.0 : mono\n",
            "\u001b[0mInput #0, wav, from 'output.wav':\n",
            "  Metadata:\n",
            "    title           : 66к 832 КВ   02 05 2024 05 57 50\n",
            "    encoder         : Lavf58.76.100\n",
            "    encoded_by      : auphonic.com\n",
            "  Duration: 00:00:47.55, bitrate: 256 kb/s\n",
            "  Stream #0:0: Audio: pcm_s16le ([1][0][0][0] / 0x0001), 16000 Hz, mono, s16, 256 kb/s\n",
            "File '/content/test1.wav' already exists. Overwrite? [y/N] y\n",
            "Stream mapping:\n",
            "  Stream #0:0 -> #0:0 (pcm_s16le (native) -> pcm_s16le (native))\n",
            "Press [q] to stop, [?] for help\n",
            "Output #0, wav, to '/content/test1.wav':\n",
            "  Metadata:\n",
            "    INAM            : 66к 832 КВ   02 05 2024 05 57 50\n",
            "    ITCH            : auphonic.com\n",
            "    ISFT            : Lavf58.76.100\n",
            "  Stream #0:0: Audio: pcm_s16le ([1][0][0][0] / 0x0001), 16000 Hz, mono, s16, 256 kb/s\n",
            "    Metadata:\n",
            "      encoder         : Lavc58.134.100 pcm_s16le\n",
            "size=    1486kB time=00:00:47.48 bitrate= 256.4kbits/s speed=4.68e+03x    \n",
            "video:0kB audio:1486kB subtitle:0kB other streams:0kB global headers:0kB muxing overhead: 0.009463%\n"
          ]
        }
      ],
      "source": [
        "!apt install ffmpeg\n",
        "\n",
        "!ffmpeg -i output.wav -vn -acodec pcm_s16le -ac 1 -ar 16000 -f wav \"/content/test1.wav\""
      ]
    },
    {
      "cell_type": "code",
      "execution_count": null,
      "metadata": {
        "id": "EkAR897h1JjF"
      },
      "outputs": [],
      "source": [
        "from vosk import Model, KaldiRecognizer, SetLogLevel\n",
        "import sys\n",
        "import os\n",
        "import wave\n",
        "import json\n",
        "\n",
        "path = '/content/vosk-api/python/example/'\n",
        "\n",
        "SetLogLevel(0)\n",
        "\n",
        "if not os.path.exists(\"model\"):\n",
        "    print (\"Please download the model from https://alphacephei.com/vosk/models and unpack as 'model' in the current folder.\")\n",
        "    exit (1)\n",
        "\n",
        "#wf = wave.open(path+'/test.wav',\"rb\")#English test sample\n",
        "wf = wave.open(path+\"test1.wav\",\"rb\")#Chinese lang test sample\n",
        "sound = path+\"test1.wav\"\n",
        "if wf.getnchannels() != 1 or wf.getsampwidth() != 2 or wf.getcomptype() != \"NONE\":\n",
        "    print (\"Audio file must be WAV format mono PCM.\")\n",
        "    exit (1)\n",
        "\n",
        "model = Model(\"model\")\n",
        "rec = KaldiRecognizer(model, wf.getframerate())\n",
        "\n",
        "while True:\n",
        "    data = wf.readframes(4000)\n",
        "    if len(data) == 0:\n",
        "        break\n",
        "    if rec.AcceptWaveform(data):\n",
        "        continue\n",
        "        #print(rec.Result())\n",
        "       ## res = json.loads(rec.Result())\n",
        "        #print(res['text'])\n",
        "    #else:\n",
        "        #print(rec.PartialResult())\n",
        "\n",
        "original_stdout = sys.stdout\n",
        "with open('vosk.json','w') as f:\n",
        "    sys.stdout = f\n",
        "    print(rec.FinalResult())\n",
        "    f.close()\n",
        "    sys.stdout = original_stdout\n",
        "##res = json.loads(rec.FinalResult())\n",
        "##print(res['text'])"
      ]
    },
    {
      "cell_type": "code",
      "execution_count": null,
      "metadata": {
        "id": "wii75gb2nirr"
      },
      "outputs": [],
      "source": [
        "import json\n",
        "import pandas as pd\n",
        "import datetime\n",
        "import copy\n",
        "\n",
        "def fmttime(sec):\n",
        "    secs = sec #millisecs / 1000.0\n",
        "    d = datetime.timedelta(seconds=secs)\n",
        "    t = (datetime.datetime.min + d).time()\n",
        "    milli = t.strftime('%f')[:3]\n",
        "    value = t.strftime('%H:%M:%S,') + milli\n",
        "    return value\n",
        "\n",
        "\n",
        "# Load JSON data\n",
        "with open('vosk.json', 'r') as f:\n",
        "    data = json.load(f)\n",
        "\n",
        "# Retrieve the text\n",
        "text = data['text']\n",
        "\n",
        "# Split the text into lines of 100 characters\n",
        "lines = [text[i:i+100] for i in range(0, len(text), 100)]\n",
        "\n",
        "# Print each line\n",
        "for line in lines:\n",
        "    print(line)"
      ]
    },
    {
      "cell_type": "code",
      "execution_count": null,
      "metadata": {
        "id": "lZ7ENNBf1pVw"
      },
      "outputs": [],
      "source": [
        "import re\n",
        "\n",
        "def check_and_highlight(text):\n",
        "    # Слова для поиска\n",
        "    keywords = [\"здравствуйте\", \"спасибо\", \"пожалуйста\", \"хорошо\"]\n",
        "\n",
        "    # Используем регулярное выражение для разбивки текста на слова\n",
        "    words = re.findall(r'\\w+', text, re.IGNORECASE)\n",
        "\n",
        "    # Проверяем каждое слово\n",
        "    for word in words:\n",
        "        if word.lower() in keywords:\n",
        "            # Выделяем найденные слова\n",
        "            highlighted_word = f\"**{word}**\"\n",
        "            print(highlighted_word)\n",
        "        else:\n",
        "            print(word)\n",
        "\n",
        "# Пример использования\n",
        "\n",
        "for line in lines:\n",
        "    print(line)\n",
        "\n",
        "print(\"Исправленная версия:\")\n",
        "\n",
        "for line in lines:\n",
        "    check_and_highlight(line)"
      ]
    },
    {
      "cell_type": "code",
      "execution_count": null,
      "metadata": {
        "id": "i0gun1Lt1UNT"
      },
      "outputs": [],
      "source": []
    }
  ],
  "metadata": {
    "colab": {
      "provenance": [],
      "include_colab_link": true
    },
    "kernelspec": {
      "display_name": "Python 3",
      "name": "python3"
    },
    "language_info": {
      "name": "python"
    }
  },
  "nbformat": 4,
  "nbformat_minor": 0
}